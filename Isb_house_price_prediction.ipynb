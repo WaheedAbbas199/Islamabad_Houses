{
 "cells": [
  {
   "cell_type": "markdown",
   "metadata": {},
   "source": [
    "## Import Libraries"
   ]
  },
  {
   "cell_type": "code",
   "execution_count": 29,
   "metadata": {
    "ExecuteTime": {
     "end_time": "2024-08-19T13:56:40.476261Z",
     "start_time": "2024-08-19T13:56:40.468247Z"
    }
   },
   "outputs": [],
   "source": [
    "import pandas as pd\n",
    "import numpy as np\n",
    "import seaborn as sns\n",
    "import matplotlib.pyplot as plt\n",
    "%matplotlib inline"
   ]
  },
  {
   "cell_type": "markdown",
   "metadata": {},
   "source": [
    "## Load DataSet"
   ]
  },
  {
   "cell_type": "code",
   "execution_count": 30,
   "metadata": {},
   "outputs": [
    {
     "data": {
      "text/html": [
       "<div>\n",
       "<style scoped>\n",
       "    .dataframe tbody tr th:only-of-type {\n",
       "        vertical-align: middle;\n",
       "    }\n",
       "\n",
       "    .dataframe tbody tr th {\n",
       "        vertical-align: top;\n",
       "    }\n",
       "\n",
       "    .dataframe thead th {\n",
       "        text-align: right;\n",
       "    }\n",
       "</style>\n",
       "<table border=\"1\" class=\"dataframe\">\n",
       "  <thead>\n",
       "    <tr style=\"text-align: right;\">\n",
       "      <th></th>\n",
       "      <th>Unnamed: 0</th>\n",
       "      <th>price</th>\n",
       "      <th>location</th>\n",
       "      <th>baths</th>\n",
       "      <th>bedrooms</th>\n",
       "      <th>Total_Area</th>\n",
       "    </tr>\n",
       "  </thead>\n",
       "  <tbody>\n",
       "    <tr>\n",
       "      <th>0</th>\n",
       "      <td>0</td>\n",
       "      <td>165.0</td>\n",
       "      <td>G-15</td>\n",
       "      <td>6</td>\n",
       "      <td>5</td>\n",
       "      <td>2178.008</td>\n",
       "    </tr>\n",
       "    <tr>\n",
       "      <th>1</th>\n",
       "      <td>1</td>\n",
       "      <td>435.0</td>\n",
       "      <td>Bani Gala</td>\n",
       "      <td>4</td>\n",
       "      <td>4</td>\n",
       "      <td>10890.000</td>\n",
       "    </tr>\n",
       "    <tr>\n",
       "      <th>2</th>\n",
       "      <td>2</td>\n",
       "      <td>70.0</td>\n",
       "      <td>DHA Defence</td>\n",
       "      <td>3</td>\n",
       "      <td>3</td>\n",
       "      <td>2178.008</td>\n",
       "    </tr>\n",
       "    <tr>\n",
       "      <th>3</th>\n",
       "      <td>3</td>\n",
       "      <td>345.0</td>\n",
       "      <td>Ghauri Town</td>\n",
       "      <td>8</td>\n",
       "      <td>8</td>\n",
       "      <td>87120.000</td>\n",
       "    </tr>\n",
       "    <tr>\n",
       "      <th>4</th>\n",
       "      <td>4</td>\n",
       "      <td>270.0</td>\n",
       "      <td>Korang Town</td>\n",
       "      <td>8</td>\n",
       "      <td>8</td>\n",
       "      <td>5445.000</td>\n",
       "    </tr>\n",
       "    <tr>\n",
       "      <th>...</th>\n",
       "      <td>...</td>\n",
       "      <td>...</td>\n",
       "      <td>...</td>\n",
       "      <td>...</td>\n",
       "      <td>...</td>\n",
       "      <td>...</td>\n",
       "    </tr>\n",
       "    <tr>\n",
       "      <th>9173</th>\n",
       "      <td>11864</td>\n",
       "      <td>23.0</td>\n",
       "      <td>DHA Defence</td>\n",
       "      <td>2</td>\n",
       "      <td>2</td>\n",
       "      <td>1361.255</td>\n",
       "    </tr>\n",
       "    <tr>\n",
       "      <th>9174</th>\n",
       "      <td>11865</td>\n",
       "      <td>127.0</td>\n",
       "      <td>Soan Garden</td>\n",
       "      <td>3</td>\n",
       "      <td>3</td>\n",
       "      <td>2722.510</td>\n",
       "    </tr>\n",
       "    <tr>\n",
       "      <th>9175</th>\n",
       "      <td>11866</td>\n",
       "      <td>270.0</td>\n",
       "      <td>G-13</td>\n",
       "      <td>4</td>\n",
       "      <td>4</td>\n",
       "      <td>1905.757</td>\n",
       "    </tr>\n",
       "    <tr>\n",
       "      <th>9176</th>\n",
       "      <td>11867</td>\n",
       "      <td>90.0</td>\n",
       "      <td>Soan Garden</td>\n",
       "      <td>3</td>\n",
       "      <td>2</td>\n",
       "      <td>1633.506</td>\n",
       "    </tr>\n",
       "    <tr>\n",
       "      <th>9177</th>\n",
       "      <td>11868</td>\n",
       "      <td>140.0</td>\n",
       "      <td>F-7</td>\n",
       "      <td>7</td>\n",
       "      <td>7</td>\n",
       "      <td>5445.000</td>\n",
       "    </tr>\n",
       "  </tbody>\n",
       "</table>\n",
       "<p>9178 rows × 6 columns</p>\n",
       "</div>"
      ],
      "text/plain": [
       "      Unnamed: 0  price     location  baths  bedrooms  Total_Area\n",
       "0              0  165.0         G-15      6         5    2178.008\n",
       "1              1  435.0    Bani Gala      4         4   10890.000\n",
       "2              2   70.0  DHA Defence      3         3    2178.008\n",
       "3              3  345.0  Ghauri Town      8         8   87120.000\n",
       "4              4  270.0  Korang Town      8         8    5445.000\n",
       "...          ...    ...          ...    ...       ...         ...\n",
       "9173       11864   23.0  DHA Defence      2         2    1361.255\n",
       "9174       11865  127.0  Soan Garden      3         3    2722.510\n",
       "9175       11866  270.0         G-13      4         4    1905.757\n",
       "9176       11867   90.0  Soan Garden      3         2    1633.506\n",
       "9177       11868  140.0          F-7      7         7    5445.000\n",
       "\n",
       "[9178 rows x 6 columns]"
      ]
     },
     "execution_count": 30,
     "metadata": {},
     "output_type": "execute_result"
    }
   ],
   "source": [
    "data = pd.read_csv(\"isb_data.csv\")\n",
    "data"
   ]
  },
  {
   "cell_type": "markdown",
   "metadata": {},
   "source": [
    "## Drop Unnecessary Columns\n",
    "* drop unnecessary column like Unnamed: 0"
   ]
  },
  {
   "cell_type": "code",
   "execution_count": 31,
   "metadata": {},
   "outputs": [
    {
     "data": {
      "text/plain": [
       "(9178, 6)"
      ]
     },
     "execution_count": 31,
     "metadata": {},
     "output_type": "execute_result"
    }
   ],
   "source": [
    "data.shape"
   ]
  },
  {
   "cell_type": "code",
   "execution_count": 32,
   "metadata": {},
   "outputs": [],
   "source": [
    "data.drop('Unnamed: 0', axis=1, inplace=True)"
   ]
  },
  {
   "cell_type": "markdown",
   "metadata": {},
   "source": [
    "## Data Exploration and Cleaning"
   ]
  },
  {
   "cell_type": "code",
   "execution_count": 33,
   "metadata": {},
   "outputs": [
    {
     "name": "stdout",
     "output_type": "stream",
     "text": [
      "<class 'pandas.core.frame.DataFrame'>\n",
      "RangeIndex: 9178 entries, 0 to 9177\n",
      "Data columns (total 5 columns):\n",
      " #   Column      Non-Null Count  Dtype  \n",
      "---  ------      --------------  -----  \n",
      " 0   price       9178 non-null   float64\n",
      " 1   location    9178 non-null   object \n",
      " 2   baths       9178 non-null   int64  \n",
      " 3   bedrooms    9178 non-null   int64  \n",
      " 4   Total_Area  9178 non-null   float64\n",
      "dtypes: float64(2), int64(2), object(1)\n",
      "memory usage: 358.6+ KB\n"
     ]
    }
   ],
   "source": [
    "data.info()"
   ]
  },
  {
   "cell_type": "code",
   "execution_count": 34,
   "metadata": {},
   "outputs": [
    {
     "data": {
      "text/html": [
       "<div>\n",
       "<style scoped>\n",
       "    .dataframe tbody tr th:only-of-type {\n",
       "        vertical-align: middle;\n",
       "    }\n",
       "\n",
       "    .dataframe tbody tr th {\n",
       "        vertical-align: top;\n",
       "    }\n",
       "\n",
       "    .dataframe thead th {\n",
       "        text-align: right;\n",
       "    }\n",
       "</style>\n",
       "<table border=\"1\" class=\"dataframe\">\n",
       "  <thead>\n",
       "    <tr style=\"text-align: right;\">\n",
       "      <th></th>\n",
       "      <th>price</th>\n",
       "      <th>baths</th>\n",
       "      <th>bedrooms</th>\n",
       "      <th>Total_Area</th>\n",
       "    </tr>\n",
       "  </thead>\n",
       "  <tbody>\n",
       "    <tr>\n",
       "      <th>count</th>\n",
       "      <td>9178.000000</td>\n",
       "      <td>9178.000000</td>\n",
       "      <td>9178.000000</td>\n",
       "      <td>9.178000e+03</td>\n",
       "    </tr>\n",
       "    <tr>\n",
       "      <th>mean</th>\n",
       "      <td>342.793786</td>\n",
       "      <td>5.170190</td>\n",
       "      <td>4.824472</td>\n",
       "      <td>1.232661e+04</td>\n",
       "    </tr>\n",
       "    <tr>\n",
       "      <th>std</th>\n",
       "      <td>420.842852</td>\n",
       "      <td>1.800565</td>\n",
       "      <td>1.695079</td>\n",
       "      <td>2.741433e+04</td>\n",
       "    </tr>\n",
       "    <tr>\n",
       "      <th>min</th>\n",
       "      <td>15.000000</td>\n",
       "      <td>1.000000</td>\n",
       "      <td>1.000000</td>\n",
       "      <td>2.722510e+02</td>\n",
       "    </tr>\n",
       "    <tr>\n",
       "      <th>25%</th>\n",
       "      <td>125.000000</td>\n",
       "      <td>4.000000</td>\n",
       "      <td>4.000000</td>\n",
       "      <td>1.633506e+03</td>\n",
       "    </tr>\n",
       "    <tr>\n",
       "      <th>50%</th>\n",
       "      <td>200.000000</td>\n",
       "      <td>5.000000</td>\n",
       "      <td>5.000000</td>\n",
       "      <td>2.722510e+03</td>\n",
       "    </tr>\n",
       "    <tr>\n",
       "      <th>75%</th>\n",
       "      <td>410.000000</td>\n",
       "      <td>6.000000</td>\n",
       "      <td>6.000000</td>\n",
       "      <td>5.445000e+03</td>\n",
       "    </tr>\n",
       "    <tr>\n",
       "      <th>max</th>\n",
       "      <td>3800.000000</td>\n",
       "      <td>12.000000</td>\n",
       "      <td>12.000000</td>\n",
       "      <td>1.159785e+06</td>\n",
       "    </tr>\n",
       "  </tbody>\n",
       "</table>\n",
       "</div>"
      ],
      "text/plain": [
       "             price        baths     bedrooms    Total_Area\n",
       "count  9178.000000  9178.000000  9178.000000  9.178000e+03\n",
       "mean    342.793786     5.170190     4.824472  1.232661e+04\n",
       "std     420.842852     1.800565     1.695079  2.741433e+04\n",
       "min      15.000000     1.000000     1.000000  2.722510e+02\n",
       "25%     125.000000     4.000000     4.000000  1.633506e+03\n",
       "50%     200.000000     5.000000     5.000000  2.722510e+03\n",
       "75%     410.000000     6.000000     6.000000  5.445000e+03\n",
       "max    3800.000000    12.000000    12.000000  1.159785e+06"
      ]
     },
     "execution_count": 34,
     "metadata": {},
     "output_type": "execute_result"
    }
   ],
   "source": [
    "data.describe()"
   ]
  },
  {
   "cell_type": "code",
   "execution_count": 35,
   "metadata": {},
   "outputs": [
    {
     "name": "stdout",
     "output_type": "stream",
     "text": [
      "price\n",
      "150.0    260\n",
      "140.0    219\n",
      "450.0    191\n",
      "160.0    191\n",
      "145.0    179\n",
      "        ... \n",
      "585.0      1\n",
      "60.5       1\n",
      "16.0       1\n",
      "770.0      1\n",
      "438.0      1\n",
      "Name: count, Length: 486, dtype: int64\n",
      "********************\n",
      "location\n",
      "DHA Defence        1057\n",
      "Bahria Town         771\n",
      "G-13                741\n",
      "Ghauri Town         511\n",
      "Soan Garden         317\n",
      "                   ... \n",
      "Capital Enclave       1\n",
      "Thalian               1\n",
      "Sihala                1\n",
      "PAF Tarnol            1\n",
      "Bokra Road            1\n",
      "Name: count, Length: 167, dtype: int64\n",
      "********************\n",
      "baths\n",
      "6     2259\n",
      "5     1813\n",
      "4     1540\n",
      "3     1089\n",
      "7      988\n",
      "2      625\n",
      "8      480\n",
      "10     187\n",
      "9      160\n",
      "1       32\n",
      "12       3\n",
      "11       2\n",
      "Name: count, dtype: int64\n",
      "********************\n",
      "bedrooms\n",
      "4     2160\n",
      "5     2144\n",
      "6     1797\n",
      "3     1112\n",
      "2      774\n",
      "7      685\n",
      "8      202\n",
      "9      153\n",
      "10      88\n",
      "11      50\n",
      "1       11\n",
      "12       2\n",
      "Name: count, dtype: int64\n",
      "********************\n",
      "Total_Area\n",
      "1361.255      1463\n",
      "5445.000      1363\n",
      "2722.510       953\n",
      "2178.008       895\n",
      "1905.757       537\n",
      "              ... \n",
      "206910.000       1\n",
      "13884.801        1\n",
      "31853.367        1\n",
      "32125.618        1\n",
      "34575.877        1\n",
      "Name: count, Length: 143, dtype: int64\n",
      "********************\n"
     ]
    }
   ],
   "source": [
    "for column in data.columns:\n",
    "    print(data[column].value_counts())\n",
    "    print(\"*\"*20)"
   ]
  },
  {
   "cell_type": "code",
   "execution_count": 36,
   "metadata": {},
   "outputs": [
    {
     "data": {
      "text/plain": [
       "price         0\n",
       "location      0\n",
       "baths         0\n",
       "bedrooms      0\n",
       "Total_Area    0\n",
       "dtype: int64"
      ]
     },
     "execution_count": 36,
     "metadata": {},
     "output_type": "execute_result"
    }
   ],
   "source": [
    "data.isna().sum()"
   ]
  },
  {
   "cell_type": "code",
   "execution_count": 37,
   "metadata": {},
   "outputs": [
    {
     "data": {
      "text/plain": [
       "location\n",
       "DHA Defence        1057\n",
       "Bahria Town         771\n",
       "G-13                741\n",
       "Ghauri Town         511\n",
       "Soan Garden         317\n",
       "                   ... \n",
       "Capital Enclave       1\n",
       "Thalian               1\n",
       "Sihala                1\n",
       "PAF Tarnol            1\n",
       "Bokra Road            1\n",
       "Name: count, Length: 167, dtype: int64"
      ]
     },
     "execution_count": 37,
     "metadata": {},
     "output_type": "execute_result"
    }
   ],
   "source": [
    "data['location'].value_counts()"
   ]
  },
  {
   "cell_type": "code",
   "execution_count": 38,
   "metadata": {},
   "outputs": [
    {
     "data": {
      "text/plain": [
       "price\n",
       "150.0    260\n",
       "140.0    219\n",
       "450.0    191\n",
       "160.0    191\n",
       "145.0    179\n",
       "        ... \n",
       "585.0      1\n",
       "60.5       1\n",
       "16.0       1\n",
       "770.0      1\n",
       "438.0      1\n",
       "Name: count, Length: 486, dtype: int64"
      ]
     },
     "execution_count": 38,
     "metadata": {},
     "output_type": "execute_result"
    }
   ],
   "source": [
    "data['price'].value_counts()"
   ]
  },
  {
   "cell_type": "code",
   "execution_count": null,
   "metadata": {},
   "outputs": [],
   "source": []
  },
  {
   "cell_type": "code",
   "execution_count": 39,
   "metadata": {},
   "outputs": [
    {
     "data": {
      "text/plain": [
       "bedrooms\n",
       "4     2160\n",
       "5     2144\n",
       "6     1797\n",
       "3     1112\n",
       "2      774\n",
       "7      685\n",
       "8      202\n",
       "9      153\n",
       "10      88\n",
       "11      50\n",
       "1       11\n",
       "12       2\n",
       "Name: count, dtype: int64"
      ]
     },
     "execution_count": 39,
     "metadata": {},
     "output_type": "execute_result"
    }
   ],
   "source": [
    "data['bedrooms'].value_counts()"
   ]
  },
  {
   "cell_type": "code",
   "execution_count": 40,
   "metadata": {},
   "outputs": [
    {
     "data": {
      "text/plain": [
       "baths\n",
       "6     2259\n",
       "5     1813\n",
       "4     1540\n",
       "3     1089\n",
       "7      988\n",
       "2      625\n",
       "8      480\n",
       "10     187\n",
       "9      160\n",
       "1       32\n",
       "12       3\n",
       "11       2\n",
       "Name: count, dtype: int64"
      ]
     },
     "execution_count": 40,
     "metadata": {},
     "output_type": "execute_result"
    }
   ],
   "source": [
    "data['baths'].value_counts()"
   ]
  },
  {
   "cell_type": "code",
   "execution_count": 41,
   "metadata": {},
   "outputs": [
    {
     "data": {
      "text/plain": [
       "Total_Area\n",
       "1361.255      1463\n",
       "5445.000      1363\n",
       "2722.510       953\n",
       "2178.008       895\n",
       "1905.757       537\n",
       "              ... \n",
       "206910.000       1\n",
       "13884.801        1\n",
       "31853.367        1\n",
       "32125.618        1\n",
       "34575.877        1\n",
       "Name: count, Length: 143, dtype: int64"
      ]
     },
     "execution_count": 41,
     "metadata": {},
     "output_type": "execute_result"
    }
   ],
   "source": [
    "data['Total_Area'].value_counts()"
   ]
  },
  {
   "cell_type": "code",
   "execution_count": 42,
   "metadata": {},
   "outputs": [],
   "source": [
    "data = data[(data['Total_Area'] != 0) & (data['baths'] != 0) & (data['bedrooms'] != 0)  & (data['price'] >= 15)]"
   ]
  },
  {
   "cell_type": "code",
   "execution_count": 73,
   "metadata": {},
   "outputs": [
    {
     "data": {
      "text/html": [
       "<div>\n",
       "<style scoped>\n",
       "    .dataframe tbody tr th:only-of-type {\n",
       "        vertical-align: middle;\n",
       "    }\n",
       "\n",
       "    .dataframe tbody tr th {\n",
       "        vertical-align: top;\n",
       "    }\n",
       "\n",
       "    .dataframe thead th {\n",
       "        text-align: right;\n",
       "    }\n",
       "</style>\n",
       "<table border=\"1\" class=\"dataframe\">\n",
       "  <thead>\n",
       "    <tr style=\"text-align: right;\">\n",
       "      <th></th>\n",
       "      <th>Unnamed: 0</th>\n",
       "      <th>price</th>\n",
       "      <th>location</th>\n",
       "      <th>baths</th>\n",
       "      <th>bedrooms</th>\n",
       "      <th>Total_Area</th>\n",
       "    </tr>\n",
       "  </thead>\n",
       "  <tbody>\n",
       "    <tr>\n",
       "      <th>10</th>\n",
       "      <td>10</td>\n",
       "      <td>45.0</td>\n",
       "      <td>Bhara kahu</td>\n",
       "      <td>3</td>\n",
       "      <td>3</td>\n",
       "      <td>1361.255</td>\n",
       "    </tr>\n",
       "    <tr>\n",
       "      <th>16</th>\n",
       "      <td>16</td>\n",
       "      <td>45.0</td>\n",
       "      <td>Ghauri Town</td>\n",
       "      <td>3</td>\n",
       "      <td>2</td>\n",
       "      <td>1361.255</td>\n",
       "    </tr>\n",
       "    <tr>\n",
       "      <th>37</th>\n",
       "      <td>38</td>\n",
       "      <td>90.0</td>\n",
       "      <td>Chatha Bakhtawar</td>\n",
       "      <td>4</td>\n",
       "      <td>4</td>\n",
       "      <td>1361.255</td>\n",
       "    </tr>\n",
       "    <tr>\n",
       "      <th>44</th>\n",
       "      <td>45</td>\n",
       "      <td>85.0</td>\n",
       "      <td>Bani Gala</td>\n",
       "      <td>5</td>\n",
       "      <td>5</td>\n",
       "      <td>1361.255</td>\n",
       "    </tr>\n",
       "    <tr>\n",
       "      <th>45</th>\n",
       "      <td>46</td>\n",
       "      <td>130.0</td>\n",
       "      <td>G-13</td>\n",
       "      <td>4</td>\n",
       "      <td>3</td>\n",
       "      <td>1361.255</td>\n",
       "    </tr>\n",
       "    <tr>\n",
       "      <th>...</th>\n",
       "      <td>...</td>\n",
       "      <td>...</td>\n",
       "      <td>...</td>\n",
       "      <td>...</td>\n",
       "      <td>...</td>\n",
       "      <td>...</td>\n",
       "    </tr>\n",
       "    <tr>\n",
       "      <th>9158</th>\n",
       "      <td>11819</td>\n",
       "      <td>135.0</td>\n",
       "      <td>Bahria Town</td>\n",
       "      <td>3</td>\n",
       "      <td>3</td>\n",
       "      <td>1361.255</td>\n",
       "    </tr>\n",
       "    <tr>\n",
       "      <th>9165</th>\n",
       "      <td>11826</td>\n",
       "      <td>95.0</td>\n",
       "      <td>PWD Housing Scheme</td>\n",
       "      <td>5</td>\n",
       "      <td>5</td>\n",
       "      <td>1361.255</td>\n",
       "    </tr>\n",
       "    <tr>\n",
       "      <th>9169</th>\n",
       "      <td>11858</td>\n",
       "      <td>35.0</td>\n",
       "      <td>DHA Defence</td>\n",
       "      <td>2</td>\n",
       "      <td>2</td>\n",
       "      <td>1361.255</td>\n",
       "    </tr>\n",
       "    <tr>\n",
       "      <th>9170</th>\n",
       "      <td>11859</td>\n",
       "      <td>150.0</td>\n",
       "      <td>Park View City</td>\n",
       "      <td>4</td>\n",
       "      <td>4</td>\n",
       "      <td>1361.255</td>\n",
       "    </tr>\n",
       "    <tr>\n",
       "      <th>9173</th>\n",
       "      <td>11864</td>\n",
       "      <td>23.0</td>\n",
       "      <td>DHA Defence</td>\n",
       "      <td>2</td>\n",
       "      <td>2</td>\n",
       "      <td>1361.255</td>\n",
       "    </tr>\n",
       "  </tbody>\n",
       "</table>\n",
       "<p>1463 rows × 6 columns</p>\n",
       "</div>"
      ],
      "text/plain": [
       "      Unnamed: 0  price            location  baths  bedrooms  Total_Area\n",
       "10            10   45.0          Bhara kahu      3         3    1361.255\n",
       "16            16   45.0         Ghauri Town      3         2    1361.255\n",
       "37            38   90.0    Chatha Bakhtawar      4         4    1361.255\n",
       "44            45   85.0           Bani Gala      5         5    1361.255\n",
       "45            46  130.0                G-13      4         3    1361.255\n",
       "...          ...    ...                 ...    ...       ...         ...\n",
       "9158       11819  135.0         Bahria Town      3         3    1361.255\n",
       "9165       11826   95.0  PWD Housing Scheme      5         5    1361.255\n",
       "9169       11858   35.0         DHA Defence      2         2    1361.255\n",
       "9170       11859  150.0      Park View City      4         4    1361.255\n",
       "9173       11864   23.0         DHA Defence      2         2    1361.255\n",
       "\n",
       "[1463 rows x 6 columns]"
      ]
     },
     "execution_count": 73,
     "metadata": {},
     "output_type": "execute_result"
    }
   ],
   "source": [
    "data[data['Total_Area'] ==1361.255]"
   ]
  },
  {
   "cell_type": "code",
   "execution_count": 43,
   "metadata": {},
   "outputs": [
    {
     "data": {
      "text/html": [
       "<div>\n",
       "<style scoped>\n",
       "    .dataframe tbody tr th:only-of-type {\n",
       "        vertical-align: middle;\n",
       "    }\n",
       "\n",
       "    .dataframe tbody tr th {\n",
       "        vertical-align: top;\n",
       "    }\n",
       "\n",
       "    .dataframe thead th {\n",
       "        text-align: right;\n",
       "    }\n",
       "</style>\n",
       "<table border=\"1\" class=\"dataframe\">\n",
       "  <thead>\n",
       "    <tr style=\"text-align: right;\">\n",
       "      <th></th>\n",
       "      <th>price</th>\n",
       "      <th>location</th>\n",
       "      <th>baths</th>\n",
       "      <th>bedrooms</th>\n",
       "      <th>Total_Area</th>\n",
       "    </tr>\n",
       "  </thead>\n",
       "  <tbody>\n",
       "  </tbody>\n",
       "</table>\n",
       "</div>"
      ],
      "text/plain": [
       "Empty DataFrame\n",
       "Columns: [price, location, baths, bedrooms, Total_Area]\n",
       "Index: []"
      ]
     },
     "execution_count": 43,
     "metadata": {},
     "output_type": "execute_result"
    }
   ],
   "source": [
    "data[data['bedrooms'] == 0]"
   ]
  },
  {
   "cell_type": "code",
   "execution_count": 44,
   "metadata": {},
   "outputs": [
    {
     "data": {
      "text/html": [
       "<div>\n",
       "<style scoped>\n",
       "    .dataframe tbody tr th:only-of-type {\n",
       "        vertical-align: middle;\n",
       "    }\n",
       "\n",
       "    .dataframe tbody tr th {\n",
       "        vertical-align: top;\n",
       "    }\n",
       "\n",
       "    .dataframe thead th {\n",
       "        text-align: right;\n",
       "    }\n",
       "</style>\n",
       "<table border=\"1\" class=\"dataframe\">\n",
       "  <thead>\n",
       "    <tr style=\"text-align: right;\">\n",
       "      <th></th>\n",
       "      <th>price</th>\n",
       "      <th>location</th>\n",
       "      <th>baths</th>\n",
       "      <th>bedrooms</th>\n",
       "      <th>Total_Area</th>\n",
       "    </tr>\n",
       "  </thead>\n",
       "  <tbody>\n",
       "  </tbody>\n",
       "</table>\n",
       "</div>"
      ],
      "text/plain": [
       "Empty DataFrame\n",
       "Columns: [price, location, baths, bedrooms, Total_Area]\n",
       "Index: []"
      ]
     },
     "execution_count": 44,
     "metadata": {},
     "output_type": "execute_result"
    }
   ],
   "source": [
    "data[data['baths'] == 0]"
   ]
  },
  {
   "cell_type": "code",
   "execution_count": 45,
   "metadata": {},
   "outputs": [
    {
     "data": {
      "text/html": [
       "<div>\n",
       "<style scoped>\n",
       "    .dataframe tbody tr th:only-of-type {\n",
       "        vertical-align: middle;\n",
       "    }\n",
       "\n",
       "    .dataframe tbody tr th {\n",
       "        vertical-align: top;\n",
       "    }\n",
       "\n",
       "    .dataframe thead th {\n",
       "        text-align: right;\n",
       "    }\n",
       "</style>\n",
       "<table border=\"1\" class=\"dataframe\">\n",
       "  <thead>\n",
       "    <tr style=\"text-align: right;\">\n",
       "      <th></th>\n",
       "      <th>price</th>\n",
       "      <th>location</th>\n",
       "      <th>baths</th>\n",
       "      <th>bedrooms</th>\n",
       "      <th>Total_Area</th>\n",
       "    </tr>\n",
       "  </thead>\n",
       "  <tbody>\n",
       "  </tbody>\n",
       "</table>\n",
       "</div>"
      ],
      "text/plain": [
       "Empty DataFrame\n",
       "Columns: [price, location, baths, bedrooms, Total_Area]\n",
       "Index: []"
      ]
     },
     "execution_count": 45,
     "metadata": {},
     "output_type": "execute_result"
    }
   ],
   "source": [
    "data[data['location'].isna()]"
   ]
  },
  {
   "cell_type": "code",
   "execution_count": null,
   "metadata": {},
   "outputs": [],
   "source": []
  },
  {
   "cell_type": "code",
   "execution_count": 46,
   "metadata": {},
   "outputs": [
    {
     "data": {
      "text/html": [
       "<div>\n",
       "<style scoped>\n",
       "    .dataframe tbody tr th:only-of-type {\n",
       "        vertical-align: middle;\n",
       "    }\n",
       "\n",
       "    .dataframe tbody tr th {\n",
       "        vertical-align: top;\n",
       "    }\n",
       "\n",
       "    .dataframe thead th {\n",
       "        text-align: right;\n",
       "    }\n",
       "</style>\n",
       "<table border=\"1\" class=\"dataframe\">\n",
       "  <thead>\n",
       "    <tr style=\"text-align: right;\">\n",
       "      <th></th>\n",
       "      <th>price</th>\n",
       "      <th>location</th>\n",
       "      <th>baths</th>\n",
       "      <th>bedrooms</th>\n",
       "      <th>Total_Area</th>\n",
       "    </tr>\n",
       "  </thead>\n",
       "  <tbody>\n",
       "    <tr>\n",
       "      <th>2</th>\n",
       "      <td>70.0</td>\n",
       "      <td>DHA Defence</td>\n",
       "      <td>3</td>\n",
       "      <td>3</td>\n",
       "      <td>2178.008</td>\n",
       "    </tr>\n",
       "    <tr>\n",
       "      <th>5</th>\n",
       "      <td>500.0</td>\n",
       "      <td>DHA Defence</td>\n",
       "      <td>7</td>\n",
       "      <td>7</td>\n",
       "      <td>5445.000</td>\n",
       "    </tr>\n",
       "    <tr>\n",
       "      <th>6</th>\n",
       "      <td>190.0</td>\n",
       "      <td>DHA Defence</td>\n",
       "      <td>3</td>\n",
       "      <td>3</td>\n",
       "      <td>2722.510</td>\n",
       "    </tr>\n",
       "    <tr>\n",
       "      <th>7</th>\n",
       "      <td>800.0</td>\n",
       "      <td>DHA Defence</td>\n",
       "      <td>7</td>\n",
       "      <td>7</td>\n",
       "      <td>10890.000</td>\n",
       "    </tr>\n",
       "    <tr>\n",
       "      <th>28</th>\n",
       "      <td>65.0</td>\n",
       "      <td>DHA Defence</td>\n",
       "      <td>3</td>\n",
       "      <td>3</td>\n",
       "      <td>2178.008</td>\n",
       "    </tr>\n",
       "    <tr>\n",
       "      <th>...</th>\n",
       "      <td>...</td>\n",
       "      <td>...</td>\n",
       "      <td>...</td>\n",
       "      <td>...</td>\n",
       "      <td>...</td>\n",
       "    </tr>\n",
       "    <tr>\n",
       "      <th>9135</th>\n",
       "      <td>85.0</td>\n",
       "      <td>DHA Defence</td>\n",
       "      <td>3</td>\n",
       "      <td>3</td>\n",
       "      <td>2178.008</td>\n",
       "    </tr>\n",
       "    <tr>\n",
       "      <th>9164</th>\n",
       "      <td>80.0</td>\n",
       "      <td>DHA Defence</td>\n",
       "      <td>4</td>\n",
       "      <td>3</td>\n",
       "      <td>2178.008</td>\n",
       "    </tr>\n",
       "    <tr>\n",
       "      <th>9168</th>\n",
       "      <td>80.0</td>\n",
       "      <td>DHA Defence</td>\n",
       "      <td>3</td>\n",
       "      <td>3</td>\n",
       "      <td>2178.008</td>\n",
       "    </tr>\n",
       "    <tr>\n",
       "      <th>9169</th>\n",
       "      <td>35.0</td>\n",
       "      <td>DHA Defence</td>\n",
       "      <td>2</td>\n",
       "      <td>2</td>\n",
       "      <td>1361.255</td>\n",
       "    </tr>\n",
       "    <tr>\n",
       "      <th>9173</th>\n",
       "      <td>23.0</td>\n",
       "      <td>DHA Defence</td>\n",
       "      <td>2</td>\n",
       "      <td>2</td>\n",
       "      <td>1361.255</td>\n",
       "    </tr>\n",
       "  </tbody>\n",
       "</table>\n",
       "<p>1057 rows × 5 columns</p>\n",
       "</div>"
      ],
      "text/plain": [
       "      price     location  baths  bedrooms  Total_Area\n",
       "2      70.0  DHA Defence      3         3    2178.008\n",
       "5     500.0  DHA Defence      7         7    5445.000\n",
       "6     190.0  DHA Defence      3         3    2722.510\n",
       "7     800.0  DHA Defence      7         7   10890.000\n",
       "28     65.0  DHA Defence      3         3    2178.008\n",
       "...     ...          ...    ...       ...         ...\n",
       "9135   85.0  DHA Defence      3         3    2178.008\n",
       "9164   80.0  DHA Defence      4         3    2178.008\n",
       "9168   80.0  DHA Defence      3         3    2178.008\n",
       "9169   35.0  DHA Defence      2         2    1361.255\n",
       "9173   23.0  DHA Defence      2         2    1361.255\n",
       "\n",
       "[1057 rows x 5 columns]"
      ]
     },
     "execution_count": 46,
     "metadata": {},
     "output_type": "execute_result"
    }
   ],
   "source": [
    "data[data['location']== 'DHA Defence']"
   ]
  },
  {
   "cell_type": "code",
   "execution_count": 47,
   "metadata": {},
   "outputs": [
    {
     "data": {
      "text/plain": [
       "0              G-15\n",
       "1         Bani Gala\n",
       "2       DHA Defence\n",
       "3       Ghauri Town\n",
       "4       Korang Town\n",
       "           ...     \n",
       "9173    DHA Defence\n",
       "9174    Soan Garden\n",
       "9175           G-13\n",
       "9176    Soan Garden\n",
       "9177            F-7\n",
       "Name: location, Length: 9178, dtype: object"
      ]
     },
     "execution_count": 47,
     "metadata": {},
     "output_type": "execute_result"
    }
   ],
   "source": [
    "data.location"
   ]
  },
  {
   "cell_type": "code",
   "execution_count": 48,
   "metadata": {},
   "outputs": [
    {
     "data": {
      "text/plain": [
       "array([ 6,  4,  3,  8,  7,  5, 10,  9,  2,  1, 11, 12], dtype=int64)"
      ]
     },
     "execution_count": 48,
     "metadata": {},
     "output_type": "execute_result"
    }
   ],
   "source": [
    "data.baths.unique()"
   ]
  },
  {
   "cell_type": "code",
   "execution_count": 49,
   "metadata": {},
   "outputs": [
    {
     "data": {
      "text/plain": [
       "array([ 5,  4,  3,  8,  7,  6, 10,  2,  9, 11,  1, 12], dtype=int64)"
      ]
     },
     "execution_count": 49,
     "metadata": {},
     "output_type": "execute_result"
    }
   ],
   "source": [
    "data.bedrooms.unique()"
   ]
  },
  {
   "cell_type": "code",
   "execution_count": 50,
   "metadata": {},
   "outputs": [
    {
     "data": {
      "text/plain": [
       "array([2.1780080e+03, 1.0890000e+04, 8.7120000e+04, 5.4450000e+03,\n",
       "       2.7225100e+03, 3.8115140e+03, 1.3612550e+03, 1.2795797e+04,\n",
       "       1.0890040e+03, 3.2670120e+03, 4.8460678e+04, 1.1434500e+05,\n",
       "       1.3612500e+05, 8.1675000e+04, 2.9675359e+04, 1.9057570e+03,\n",
       "       1.5246056e+04, 1.1979044e+04, 7.0785000e+04, 2.5319343e+04,\n",
       "       1.9602000e+05, 3.8659642e+04, 9.8010000e+04, 2.9947610e+03,\n",
       "       8.1675300e+02, 1.8240817e+04, 4.3560160e+03, 1.0345500e+05,\n",
       "       1.6335060e+03, 5.1727690e+03, 1.1979000e+05, 1.4973805e+04,\n",
       "       1.9874323e+04, 2.6408347e+04, 4.3287909e+04, 2.7225000e+04,\n",
       "       2.3413500e+05, 2.7497351e+04, 4.9005180e+03, 1.1434542e+04,\n",
       "       6.8062750e+03, 2.0418825e+04, 5.9895000e+04, 2.4502590e+03,\n",
       "       3.1853367e+04, 6.5340000e+04, 1.2251295e+04, 4.0020897e+04,\n",
       "       4.0837650e+03, 7.6230000e+04, 9.5287850e+03, 9.8010360e+03,\n",
       "       1.7968500e+05, 2.6136096e+04, 2.6952849e+04, 1.7696315e+04,\n",
       "       3.3759124e+04, 2.9130857e+04, 3.4848128e+04, 7.6230280e+03,\n",
       "       4.6282670e+03, 3.5392630e+03, 2.1780000e+04, 1.2523500e+05,\n",
       "       1.3068000e+05, 3.2942371e+04, 3.4031375e+04, 1.9602072e+04,\n",
       "       1.0617789e+04, 1.6335000e+04, 6.2617730e+03, 2.8858606e+04,\n",
       "       3.8931893e+04, 1.6879562e+04, 4.9549682e+04, 8.7120320e+03,\n",
       "       1.4701554e+04, 2.4230339e+04, 1.7968566e+04, 3.0219861e+04,\n",
       "       1.4429303e+04, 1.4157052e+04, 5.4450200e+02, 3.0764363e+04,\n",
       "       2.4502500e+05, 2.2052331e+04, 3.9204144e+04, 1.9329821e+04,\n",
       "       7.3507770e+03, 4.6010419e+04, 1.5790558e+04, 1.4701500e+05,\n",
       "       2.6680598e+04, 2.7769602e+04, 1.1706793e+04, 5.3905698e+04,\n",
       "       4.7643925e+04, 2.3141335e+04, 3.8387391e+04, 1.3340299e+04,\n",
       "       1.8785319e+04, 5.3088945e+04, 2.8314104e+04, 2.9947500e+05,\n",
       "       2.8586355e+04, 2.1235578e+04, 2.3958088e+04, 2.2869084e+04,\n",
       "       1.3068048e+04, 8.9842830e+03, 3.0492112e+04, 1.9057500e+05,\n",
       "       9.2565000e+04, 6.5340240e+03, 1.7151813e+04, 4.2471156e+04,\n",
       "       1.6879500e+05, 2.0691000e+05, 1.3884801e+04, 1.7424000e+05,\n",
       "       3.2125618e+04, 1.4157000e+05, 2.3685837e+04, 4.3560000e+04,\n",
       "       5.4450000e+04, 5.2544443e+04, 2.8041853e+04, 7.0785260e+03,\n",
       "       7.8952790e+03, 4.9005000e+04, 2.9403108e+04, 1.0890000e+05,\n",
       "       2.3958000e+05, 1.1597850e+06, 2.0146500e+05, 3.7026136e+04,\n",
       "       4.0565399e+04, 2.0691076e+04, 2.7225100e+02, 3.1036614e+04,\n",
       "       3.9476395e+04, 2.9403000e+05, 3.4575877e+04])"
      ]
     },
     "execution_count": 50,
     "metadata": {},
     "output_type": "execute_result"
    }
   ],
   "source": [
    "data.Total_Area.unique()"
   ]
  },
  {
   "cell_type": "code",
   "execution_count": 51,
   "metadata": {},
   "outputs": [
    {
     "data": {
      "text/plain": [
       "array(['G-15', 'Bani Gala', 'DHA Defence', 'Ghauri Town', 'Korang Town',\n",
       "       'B-17', 'G-11', 'Bhara kahu', 'Garden Town', 'Koral Town',\n",
       "       'Soan Garden', 'F-6', 'F-7', 'I-16', 'E-7', 'Emaar Canyon Views',\n",
       "       'G-13', 'F-17', 'Bahria Town', 'PWD Housing Scheme', 'F-11',\n",
       "       'Kuri Road', 'Pakistan Town', 'Chatha Bakhtawar', 'E-11', 'F-10',\n",
       "       'F-8', 'Lehtarar Road', 'G-9', 'E-14', 'I-14', 'Tarlai',\n",
       "       'Simly Dam Road', 'I-9', 'Burma Town',\n",
       "       'National Police Foundation O-9', 'Naval Anchorage',\n",
       "       'Islamabad Highway', 'CBR Town', 'G-10', 'Jhang Syedan', 'I-8',\n",
       "       'D-17', 'Arsalan Town', 'Kashmir Highway', 'I-10', 'Pir Sohawa',\n",
       "       'Ali Pur', 'FECHS', 'Shaheen Town', 'Chak Shahzad', 'H-13', 'G-14',\n",
       "       'National Police Foundation', 'Shah Allah Ditta',\n",
       "       'Islamabad Expressway', 'Margalla Town', 'Tarnol', 'H-15', 'G-8',\n",
       "       'D-13', 'Meherban Colony', 'Zaraj Housing Scheme',\n",
       "       'Multi Residencia & Orchards', 'Jhangi Syedan', 'AGHOSH',\n",
       "       'Khanna Pul', 'PAEC Employees Cooperative Housing Society',\n",
       "       'Taramrri', 'E-18', 'Golra Mor', 'G-12', 'Shahpur',\n",
       "       'Spring Valley', 'Gulshan-e-Khudadad', 'PWD Road', 'D-12',\n",
       "       'Al Huda Town', 'E-16', 'I-13', 'Qutbal Town', 'Alipur Farash',\n",
       "       'C-18', 'Royal City', 'Airport Enclave',\n",
       "       'Islamabad - Murree Expressway', 'IJP Road', 'Iqbal Town',\n",
       "       'Madina Town', 'Wapda Town', 'G-6', 'Rawal Town', 'Green Avenue',\n",
       "       'Frash Town', 'Swan Garden', 'Thalian', 'New Shakrial', 'Sihala',\n",
       "       'Thanda Pani', 'Koral Chowk', 'PECHS', 'Blue Area', 'PAF Tarnol',\n",
       "       'Motorway Chowk', 'Park Road', 'Sarai Kharbuza', 'Japan Road',\n",
       "       'River Garden', 'Marwa Town', 'D-14', 'Mumtaz City', 'G-7',\n",
       "       'Sohan Valley', 'Golra Road', 'Gulberg', 'Faisal Town - F-18',\n",
       "       '7th Avenue', 'Capital Enclave', 'Partal Town', 'Pindorian',\n",
       "       'F-15', 'Rawal Enclave', 'I-12', 'Judicial Town', 'Phulgran',\n",
       "       'Abdullah Garden', 'Fateh Jang Road', 'Azmat Town', 'Royal Avenue',\n",
       "       'H-11', 'Police Foundation Housing Society',\n",
       "       'Atomic Energy Employee Society', '9th Avenue', 'C-19',\n",
       "       'Park View City', 'Jagiot Road', 'D-18', 'Shehzad Town',\n",
       "       'City Garden', 'PTV Colony', 'Zone 5', 'Tumair', 'G-16',\n",
       "       'Kuri Model Town', 'NIH Colony', 'Athal', 'Aiza Garden',\n",
       "       'Raja Akhtar Road', 'Islamabad View Valley', 'Kuri',\n",
       "       'Airport Avenue Housing Society', 'Kahuta Road',\n",
       "       'Pakistan Intelligence Bureau Housing Society',\n",
       "       'Naval Farms Housing Scheme', 'Ahmed Town', 'Jinnah Avenue',\n",
       "       'Chattar', 'University Town', 'Airline Avenue', 'I-11',\n",
       "       'Engineering Co-operative Housing (ECHS)', 'Others', 'E-12',\n",
       "       'Model Town', 'Murree Road', 'Sihala Valley', 'Bokra Road'],\n",
       "      dtype=object)"
      ]
     },
     "execution_count": 51,
     "metadata": {},
     "output_type": "execute_result"
    }
   ],
   "source": [
    "data.location.unique()"
   ]
  },
  {
   "cell_type": "code",
   "execution_count": 52,
   "metadata": {},
   "outputs": [
    {
     "data": {
      "text/html": [
       "<div>\n",
       "<style scoped>\n",
       "    .dataframe tbody tr th:only-of-type {\n",
       "        vertical-align: middle;\n",
       "    }\n",
       "\n",
       "    .dataframe tbody tr th {\n",
       "        vertical-align: top;\n",
       "    }\n",
       "\n",
       "    .dataframe thead th {\n",
       "        text-align: right;\n",
       "    }\n",
       "</style>\n",
       "<table border=\"1\" class=\"dataframe\">\n",
       "  <thead>\n",
       "    <tr style=\"text-align: right;\">\n",
       "      <th></th>\n",
       "      <th>price</th>\n",
       "      <th>baths</th>\n",
       "      <th>bedrooms</th>\n",
       "      <th>Total_Area</th>\n",
       "    </tr>\n",
       "  </thead>\n",
       "  <tbody>\n",
       "    <tr>\n",
       "      <th>count</th>\n",
       "      <td>9178.000000</td>\n",
       "      <td>9178.000000</td>\n",
       "      <td>9178.000000</td>\n",
       "      <td>9.178000e+03</td>\n",
       "    </tr>\n",
       "    <tr>\n",
       "      <th>mean</th>\n",
       "      <td>342.793786</td>\n",
       "      <td>5.170190</td>\n",
       "      <td>4.824472</td>\n",
       "      <td>1.232661e+04</td>\n",
       "    </tr>\n",
       "    <tr>\n",
       "      <th>std</th>\n",
       "      <td>420.842852</td>\n",
       "      <td>1.800565</td>\n",
       "      <td>1.695079</td>\n",
       "      <td>2.741433e+04</td>\n",
       "    </tr>\n",
       "    <tr>\n",
       "      <th>min</th>\n",
       "      <td>15.000000</td>\n",
       "      <td>1.000000</td>\n",
       "      <td>1.000000</td>\n",
       "      <td>2.722510e+02</td>\n",
       "    </tr>\n",
       "    <tr>\n",
       "      <th>25%</th>\n",
       "      <td>125.000000</td>\n",
       "      <td>4.000000</td>\n",
       "      <td>4.000000</td>\n",
       "      <td>1.633506e+03</td>\n",
       "    </tr>\n",
       "    <tr>\n",
       "      <th>50%</th>\n",
       "      <td>200.000000</td>\n",
       "      <td>5.000000</td>\n",
       "      <td>5.000000</td>\n",
       "      <td>2.722510e+03</td>\n",
       "    </tr>\n",
       "    <tr>\n",
       "      <th>75%</th>\n",
       "      <td>410.000000</td>\n",
       "      <td>6.000000</td>\n",
       "      <td>6.000000</td>\n",
       "      <td>5.445000e+03</td>\n",
       "    </tr>\n",
       "    <tr>\n",
       "      <th>max</th>\n",
       "      <td>3800.000000</td>\n",
       "      <td>12.000000</td>\n",
       "      <td>12.000000</td>\n",
       "      <td>1.159785e+06</td>\n",
       "    </tr>\n",
       "  </tbody>\n",
       "</table>\n",
       "</div>"
      ],
      "text/plain": [
       "             price        baths     bedrooms    Total_Area\n",
       "count  9178.000000  9178.000000  9178.000000  9.178000e+03\n",
       "mean    342.793786     5.170190     4.824472  1.232661e+04\n",
       "std     420.842852     1.800565     1.695079  2.741433e+04\n",
       "min      15.000000     1.000000     1.000000  2.722510e+02\n",
       "25%     125.000000     4.000000     4.000000  1.633506e+03\n",
       "50%     200.000000     5.000000     5.000000  2.722510e+03\n",
       "75%     410.000000     6.000000     6.000000  5.445000e+03\n",
       "max    3800.000000    12.000000    12.000000  1.159785e+06"
      ]
     },
     "execution_count": 52,
     "metadata": {},
     "output_type": "execute_result"
    }
   ],
   "source": [
    "data.describe()"
   ]
  },
  {
   "cell_type": "code",
   "execution_count": null,
   "metadata": {},
   "outputs": [],
   "source": []
  },
  {
   "cell_type": "code",
   "execution_count": 86,
   "metadata": {},
   "outputs": [
    {
     "data": {
      "text/html": [
       "<div>\n",
       "<style scoped>\n",
       "    .dataframe tbody tr th:only-of-type {\n",
       "        vertical-align: middle;\n",
       "    }\n",
       "\n",
       "    .dataframe tbody tr th {\n",
       "        vertical-align: top;\n",
       "    }\n",
       "\n",
       "    .dataframe thead th {\n",
       "        text-align: right;\n",
       "    }\n",
       "</style>\n",
       "<table border=\"1\" class=\"dataframe\">\n",
       "  <thead>\n",
       "    <tr style=\"text-align: right;\">\n",
       "      <th></th>\n",
       "      <th>price</th>\n",
       "      <th>baths</th>\n",
       "      <th>bedrooms</th>\n",
       "      <th>Total_Area</th>\n",
       "      <th>Total_Area_Sqft</th>\n",
       "    </tr>\n",
       "  </thead>\n",
       "  <tbody>\n",
       "    <tr>\n",
       "      <th>count</th>\n",
       "      <td>9178.000000</td>\n",
       "      <td>9178.000000</td>\n",
       "      <td>9178.000000</td>\n",
       "      <td>9.178000e+03</td>\n",
       "      <td>9178.000000</td>\n",
       "    </tr>\n",
       "    <tr>\n",
       "      <th>mean</th>\n",
       "      <td>342.793786</td>\n",
       "      <td>5.170190</td>\n",
       "      <td>4.824472</td>\n",
       "      <td>1.232661e+04</td>\n",
       "      <td>7312.068103</td>\n",
       "    </tr>\n",
       "    <tr>\n",
       "      <th>std</th>\n",
       "      <td>420.842852</td>\n",
       "      <td>1.800565</td>\n",
       "      <td>1.695079</td>\n",
       "      <td>2.741433e+04</td>\n",
       "      <td>7713.287870</td>\n",
       "    </tr>\n",
       "    <tr>\n",
       "      <th>min</th>\n",
       "      <td>15.000000</td>\n",
       "      <td>1.000000</td>\n",
       "      <td>1.000000</td>\n",
       "      <td>2.722510e+02</td>\n",
       "      <td>60.040969</td>\n",
       "    </tr>\n",
       "    <tr>\n",
       "      <th>25%</th>\n",
       "      <td>125.000000</td>\n",
       "      <td>4.000000</td>\n",
       "      <td>4.000000</td>\n",
       "      <td>1.633506e+03</td>\n",
       "      <td>2754.810818</td>\n",
       "    </tr>\n",
       "    <tr>\n",
       "      <th>50%</th>\n",
       "      <td>200.000000</td>\n",
       "      <td>5.000000</td>\n",
       "      <td>5.000000</td>\n",
       "      <td>2.722510e+03</td>\n",
       "      <td>6887.027045</td>\n",
       "    </tr>\n",
       "    <tr>\n",
       "      <th>75%</th>\n",
       "      <td>410.000000</td>\n",
       "      <td>6.000000</td>\n",
       "      <td>6.000000</td>\n",
       "      <td>5.445000e+03</td>\n",
       "      <td>10284.627054</td>\n",
       "    </tr>\n",
       "    <tr>\n",
       "      <th>max</th>\n",
       "      <td>3800.000000</td>\n",
       "      <td>12.000000</td>\n",
       "      <td>12.000000</td>\n",
       "      <td>1.159785e+06</td>\n",
       "      <td>550962.163592</td>\n",
       "    </tr>\n",
       "  </tbody>\n",
       "</table>\n",
       "</div>"
      ],
      "text/plain": [
       "             price        baths     bedrooms    Total_Area  Total_Area_Sqft\n",
       "count  9178.000000  9178.000000  9178.000000  9.178000e+03      9178.000000\n",
       "mean    342.793786     5.170190     4.824472  1.232661e+04      7312.068103\n",
       "std     420.842852     1.800565     1.695079  2.741433e+04      7713.287870\n",
       "min      15.000000     1.000000     1.000000  2.722510e+02        60.040969\n",
       "25%     125.000000     4.000000     4.000000  1.633506e+03      2754.810818\n",
       "50%     200.000000     5.000000     5.000000  2.722510e+03      6887.027045\n",
       "75%     410.000000     6.000000     6.000000  5.445000e+03     10284.627054\n",
       "max    3800.000000    12.000000    12.000000  1.159785e+06    550962.163592"
      ]
     },
     "execution_count": 86,
     "metadata": {},
     "output_type": "execute_result"
    }
   ],
   "source": [
    "data.describe()"
   ]
  },
  {
   "cell_type": "code",
   "execution_count": null,
   "metadata": {},
   "outputs": [],
   "source": []
  },
  {
   "cell_type": "code",
   "execution_count": 81,
   "metadata": {},
   "outputs": [
    {
     "name": "stdout",
     "output_type": "stream",
     "text": [
      "Length of price: 5\n",
      "Length of location: 8\n",
      "Length of baths: 5\n",
      "Length of bedrooms: 8\n",
      "Length of Total_Area: 10\n"
     ]
    }
   ],
   "source": [
    "print(f\"Length of price: {len('price')}\")\n",
    "print(f\"Length of location: {len('location')}\")\n",
    "print(f\"Length of baths: {len('baths')}\")\n",
    "print(f\"Length of bedrooms: {len('bedrooms')}\")\n",
    "print(f\"Length of Total_Area: {len('Total_Area')}\")\n",
    " "
   ]
  },
  {
   "cell_type": "code",
   "execution_count": null,
   "metadata": {},
   "outputs": [],
   "source": []
  },
  {
   "cell_type": "markdown",
   "metadata": {},
   "source": [
    "## Outlier detection and removal"
   ]
  },
  {
   "cell_type": "code",
   "execution_count": 87,
   "metadata": {},
   "outputs": [
    {
     "data": {
      "text/plain": [
       "0"
      ]
     },
     "execution_count": 87,
     "metadata": {},
     "output_type": "execute_result"
    }
   ],
   "source": [
    "data['location'].isnull().sum()"
   ]
  },
  {
   "cell_type": "code",
   "execution_count": 118,
   "metadata": {},
   "outputs": [
    {
     "name": "stdout",
     "output_type": "stream",
     "text": [
      "Length of X: 9178\n",
      "Length of y: 9178\n"
     ]
    }
   ],
   "source": [
    "print(f\"Length of X: {len(X)}\")\n",
    "print(f\"Length of y: {len(y)}\")\n"
   ]
  },
  {
   "cell_type": "code",
   "execution_count": 83,
   "metadata": {},
   "outputs": [],
   "source": [
    "from sklearn.model_selection import train_test_split\n",
    "from sklearn.linear_model import LinearRegression,Lasso,Ridge\n",
    "from sklearn.preprocessing import OneHotEncoder,StandardScaler\n",
    "from sklearn.compose import make_column_transformer\n",
    "from sklearn.pipeline import make_pipeline\n",
    "from sklearn.metrics import r2_score"
   ]
  },
  {
   "cell_type": "markdown",
   "metadata": {},
   "source": [
    "## Save Cleaned Data"
   ]
  },
  {
   "cell_type": "code",
   "execution_count": 84,
   "metadata": {},
   "outputs": [
    {
     "data": {
      "text/plain": [
       "price              0\n",
       "location           0\n",
       "baths              0\n",
       "bedrooms           0\n",
       "Total_Area         0\n",
       "Total_Area_Sqft    0\n",
       "dtype: int64"
      ]
     },
     "execution_count": 84,
     "metadata": {},
     "output_type": "execute_result"
    }
   ],
   "source": [
    "data.to_csv(\"Cleaned_data.csv\")\n",
    "data.isna().sum()"
   ]
  },
  {
   "cell_type": "code",
   "execution_count": 88,
   "metadata": {},
   "outputs": [
    {
     "data": {
      "text/plain": [
       "<bound method NDFrame.head of       price     location  baths  bedrooms  Total_Area  Total_Area_Sqft\n",
       "0     165.0         G-15      6         5    2178.008      7575.729749\n",
       "1     435.0    Bani Gala      4         4   10890.000      3994.490358\n",
       "2      70.0  DHA Defence      3         3    2178.008      3213.945954\n",
       "3     345.0  Ghauri Town      8         8   87120.000       396.005510\n",
       "4     270.0  Korang Town      8         8    5445.000      4958.677686\n",
       "...     ...          ...    ...       ...         ...              ...\n",
       "9173   23.0  DHA Defence      2         2    1361.255      1689.617302\n",
       "9174  127.0  Soan Garden      3         3    2722.510      4664.812985\n",
       "9175  270.0         G-13      4         4    1905.757     14167.598492\n",
       "9176   90.0  Soan Garden      3         2    1633.506      5509.621636\n",
       "9177  140.0          F-7      7         7    5445.000      2571.166208\n",
       "\n",
       "[9178 rows x 6 columns]>"
      ]
     },
     "execution_count": 88,
     "metadata": {},
     "output_type": "execute_result"
    }
   ],
   "source": [
    "data.head"
   ]
  },
  {
   "cell_type": "markdown",
   "metadata": {},
   "source": [
    "## Imports Librarys for preprocessing"
   ]
  },
  {
   "cell_type": "code",
   "execution_count": 89,
   "metadata": {},
   "outputs": [],
   "source": [
    "import pandas as pd\n",
    "from sklearn.compose import make_column_transformer\n",
    "from sklearn.preprocessing import OneHotEncoder, StandardScaler\n",
    "from sklearn.linear_model import LinearRegression, Lasso, Ridge\n",
    "from sklearn.pipeline import Pipeline\n",
    "from sklearn.model_selection import train_test_split\n",
    "from sklearn.metrics import r2_score"
   ]
  },
  {
   "cell_type": "code",
   "execution_count": 90,
   "metadata": {},
   "outputs": [],
   "source": [
    "column_trans=make_column_transformer((OneHotEncoder(sparse=False),['location']),remainder='passthrough')"
   ]
  },
  {
   "cell_type": "code",
   "execution_count": 91,
   "metadata": {},
   "outputs": [],
   "source": [
    "scaler=StandardScaler()"
   ]
  },
  {
   "cell_type": "code",
   "execution_count": 92,
   "metadata": {},
   "outputs": [],
   "source": [
    "lr=LinearRegression()"
   ]
  },
  {
   "cell_type": "code",
   "execution_count": 93,
   "metadata": {},
   "outputs": [],
   "source": [
    "pipe=make_pipeline(column_trans,scaler,lr)"
   ]
  },
  {
   "cell_type": "code",
   "execution_count": 100,
   "metadata": {},
   "outputs": [
    {
     "name": "stderr",
     "output_type": "stream",
     "text": [
      "C:\\ProgramData\\anaconda3\\Lib\\site-packages\\sklearn\\preprocessing\\_encoders.py:868: FutureWarning: `sparse` was renamed to `sparse_output` in version 1.2 and will be removed in 1.4. `sparse_output` is ignored unless you leave `sparse` to its default value.\n",
      "  warnings.warn(\n"
     ]
    },
    {
     "data": {
      "text/html": [
       "<style>#sk-container-id-1 {color: black;background-color: white;}#sk-container-id-1 pre{padding: 0;}#sk-container-id-1 div.sk-toggleable {background-color: white;}#sk-container-id-1 label.sk-toggleable__label {cursor: pointer;display: block;width: 100%;margin-bottom: 0;padding: 0.3em;box-sizing: border-box;text-align: center;}#sk-container-id-1 label.sk-toggleable__label-arrow:before {content: \"▸\";float: left;margin-right: 0.25em;color: #696969;}#sk-container-id-1 label.sk-toggleable__label-arrow:hover:before {color: black;}#sk-container-id-1 div.sk-estimator:hover label.sk-toggleable__label-arrow:before {color: black;}#sk-container-id-1 div.sk-toggleable__content {max-height: 0;max-width: 0;overflow: hidden;text-align: left;background-color: #f0f8ff;}#sk-container-id-1 div.sk-toggleable__content pre {margin: 0.2em;color: black;border-radius: 0.25em;background-color: #f0f8ff;}#sk-container-id-1 input.sk-toggleable__control:checked~div.sk-toggleable__content {max-height: 200px;max-width: 100%;overflow: auto;}#sk-container-id-1 input.sk-toggleable__control:checked~label.sk-toggleable__label-arrow:before {content: \"▾\";}#sk-container-id-1 div.sk-estimator input.sk-toggleable__control:checked~label.sk-toggleable__label {background-color: #d4ebff;}#sk-container-id-1 div.sk-label input.sk-toggleable__control:checked~label.sk-toggleable__label {background-color: #d4ebff;}#sk-container-id-1 input.sk-hidden--visually {border: 0;clip: rect(1px 1px 1px 1px);clip: rect(1px, 1px, 1px, 1px);height: 1px;margin: -1px;overflow: hidden;padding: 0;position: absolute;width: 1px;}#sk-container-id-1 div.sk-estimator {font-family: monospace;background-color: #f0f8ff;border: 1px dotted black;border-radius: 0.25em;box-sizing: border-box;margin-bottom: 0.5em;}#sk-container-id-1 div.sk-estimator:hover {background-color: #d4ebff;}#sk-container-id-1 div.sk-parallel-item::after {content: \"\";width: 100%;border-bottom: 1px solid gray;flex-grow: 1;}#sk-container-id-1 div.sk-label:hover label.sk-toggleable__label {background-color: #d4ebff;}#sk-container-id-1 div.sk-serial::before {content: \"\";position: absolute;border-left: 1px solid gray;box-sizing: border-box;top: 0;bottom: 0;left: 50%;z-index: 0;}#sk-container-id-1 div.sk-serial {display: flex;flex-direction: column;align-items: center;background-color: white;padding-right: 0.2em;padding-left: 0.2em;position: relative;}#sk-container-id-1 div.sk-item {position: relative;z-index: 1;}#sk-container-id-1 div.sk-parallel {display: flex;align-items: stretch;justify-content: center;background-color: white;position: relative;}#sk-container-id-1 div.sk-item::before, #sk-container-id-1 div.sk-parallel-item::before {content: \"\";position: absolute;border-left: 1px solid gray;box-sizing: border-box;top: 0;bottom: 0;left: 50%;z-index: -1;}#sk-container-id-1 div.sk-parallel-item {display: flex;flex-direction: column;z-index: 1;position: relative;background-color: white;}#sk-container-id-1 div.sk-parallel-item:first-child::after {align-self: flex-end;width: 50%;}#sk-container-id-1 div.sk-parallel-item:last-child::after {align-self: flex-start;width: 50%;}#sk-container-id-1 div.sk-parallel-item:only-child::after {width: 0;}#sk-container-id-1 div.sk-dashed-wrapped {border: 1px dashed gray;margin: 0 0.4em 0.5em 0.4em;box-sizing: border-box;padding-bottom: 0.4em;background-color: white;}#sk-container-id-1 div.sk-label label {font-family: monospace;font-weight: bold;display: inline-block;line-height: 1.2em;}#sk-container-id-1 div.sk-label-container {text-align: center;}#sk-container-id-1 div.sk-container {/* jupyter's `normalize.less` sets `[hidden] { display: none; }` but bootstrap.min.css set `[hidden] { display: none !important; }` so we also need the `!important` here to be able to override the default hidden behavior on the sphinx rendered scikit-learn.org. See: https://github.com/scikit-learn/scikit-learn/issues/21755 */display: inline-block !important;position: relative;}#sk-container-id-1 div.sk-text-repr-fallback {display: none;}</style><div id=\"sk-container-id-1\" class=\"sk-top-container\"><div class=\"sk-text-repr-fallback\"><pre>Pipeline(steps=[(&#x27;columntransformer&#x27;,\n",
       "                 ColumnTransformer(remainder=&#x27;passthrough&#x27;,\n",
       "                                   transformers=[(&#x27;onehotencoder&#x27;,\n",
       "                                                  OneHotEncoder(sparse=False),\n",
       "                                                  [&#x27;location&#x27;])])),\n",
       "                (&#x27;standardscaler&#x27;, StandardScaler()),\n",
       "                (&#x27;linearregression&#x27;, LinearRegression())])</pre><b>In a Jupyter environment, please rerun this cell to show the HTML representation or trust the notebook. <br />On GitHub, the HTML representation is unable to render, please try loading this page with nbviewer.org.</b></div><div class=\"sk-container\" hidden><div class=\"sk-item sk-dashed-wrapped\"><div class=\"sk-label-container\"><div class=\"sk-label sk-toggleable\"><input class=\"sk-toggleable__control sk-hidden--visually\" id=\"sk-estimator-id-1\" type=\"checkbox\" ><label for=\"sk-estimator-id-1\" class=\"sk-toggleable__label sk-toggleable__label-arrow\">Pipeline</label><div class=\"sk-toggleable__content\"><pre>Pipeline(steps=[(&#x27;columntransformer&#x27;,\n",
       "                 ColumnTransformer(remainder=&#x27;passthrough&#x27;,\n",
       "                                   transformers=[(&#x27;onehotencoder&#x27;,\n",
       "                                                  OneHotEncoder(sparse=False),\n",
       "                                                  [&#x27;location&#x27;])])),\n",
       "                (&#x27;standardscaler&#x27;, StandardScaler()),\n",
       "                (&#x27;linearregression&#x27;, LinearRegression())])</pre></div></div></div><div class=\"sk-serial\"><div class=\"sk-item sk-dashed-wrapped\"><div class=\"sk-label-container\"><div class=\"sk-label sk-toggleable\"><input class=\"sk-toggleable__control sk-hidden--visually\" id=\"sk-estimator-id-2\" type=\"checkbox\" ><label for=\"sk-estimator-id-2\" class=\"sk-toggleable__label sk-toggleable__label-arrow\">columntransformer: ColumnTransformer</label><div class=\"sk-toggleable__content\"><pre>ColumnTransformer(remainder=&#x27;passthrough&#x27;,\n",
       "                  transformers=[(&#x27;onehotencoder&#x27;, OneHotEncoder(sparse=False),\n",
       "                                 [&#x27;location&#x27;])])</pre></div></div></div><div class=\"sk-parallel\"><div class=\"sk-parallel-item\"><div class=\"sk-item\"><div class=\"sk-label-container\"><div class=\"sk-label sk-toggleable\"><input class=\"sk-toggleable__control sk-hidden--visually\" id=\"sk-estimator-id-3\" type=\"checkbox\" ><label for=\"sk-estimator-id-3\" class=\"sk-toggleable__label sk-toggleable__label-arrow\">onehotencoder</label><div class=\"sk-toggleable__content\"><pre>[&#x27;location&#x27;]</pre></div></div></div><div class=\"sk-serial\"><div class=\"sk-item\"><div class=\"sk-estimator sk-toggleable\"><input class=\"sk-toggleable__control sk-hidden--visually\" id=\"sk-estimator-id-4\" type=\"checkbox\" ><label for=\"sk-estimator-id-4\" class=\"sk-toggleable__label sk-toggleable__label-arrow\">OneHotEncoder</label><div class=\"sk-toggleable__content\"><pre>OneHotEncoder(sparse=False)</pre></div></div></div></div></div></div><div class=\"sk-parallel-item\"><div class=\"sk-item\"><div class=\"sk-label-container\"><div class=\"sk-label sk-toggleable\"><input class=\"sk-toggleable__control sk-hidden--visually\" id=\"sk-estimator-id-5\" type=\"checkbox\" ><label for=\"sk-estimator-id-5\" class=\"sk-toggleable__label sk-toggleable__label-arrow\">remainder</label><div class=\"sk-toggleable__content\"><pre>[&#x27;baths&#x27;, &#x27;bedrooms&#x27;, &#x27;Total_Area&#x27;, &#x27;Total_Area_Sqft&#x27;]</pre></div></div></div><div class=\"sk-serial\"><div class=\"sk-item\"><div class=\"sk-estimator sk-toggleable\"><input class=\"sk-toggleable__control sk-hidden--visually\" id=\"sk-estimator-id-6\" type=\"checkbox\" ><label for=\"sk-estimator-id-6\" class=\"sk-toggleable__label sk-toggleable__label-arrow\">passthrough</label><div class=\"sk-toggleable__content\"><pre>passthrough</pre></div></div></div></div></div></div></div></div><div class=\"sk-item\"><div class=\"sk-estimator sk-toggleable\"><input class=\"sk-toggleable__control sk-hidden--visually\" id=\"sk-estimator-id-7\" type=\"checkbox\" ><label for=\"sk-estimator-id-7\" class=\"sk-toggleable__label sk-toggleable__label-arrow\">StandardScaler</label><div class=\"sk-toggleable__content\"><pre>StandardScaler()</pre></div></div></div><div class=\"sk-item\"><div class=\"sk-estimator sk-toggleable\"><input class=\"sk-toggleable__control sk-hidden--visually\" id=\"sk-estimator-id-8\" type=\"checkbox\" ><label for=\"sk-estimator-id-8\" class=\"sk-toggleable__label sk-toggleable__label-arrow\">LinearRegression</label><div class=\"sk-toggleable__content\"><pre>LinearRegression()</pre></div></div></div></div></div></div></div>"
      ],
      "text/plain": [
       "Pipeline(steps=[('columntransformer',\n",
       "                 ColumnTransformer(remainder='passthrough',\n",
       "                                   transformers=[('onehotencoder',\n",
       "                                                  OneHotEncoder(sparse=False),\n",
       "                                                  ['location'])])),\n",
       "                ('standardscaler', StandardScaler()),\n",
       "                ('linearregression', LinearRegression())])"
      ]
     },
     "execution_count": 100,
     "metadata": {},
     "output_type": "execute_result"
    }
   ],
   "source": [
    "pipe.fit(X_train,y_train)"
   ]
  },
  {
   "cell_type": "code",
   "execution_count": 115,
   "metadata": {},
   "outputs": [],
   "source": [
    "y_pred_lr=pipe.predict(X_test)"
   ]
  },
  {
   "cell_type": "code",
   "execution_count": 113,
   "metadata": {},
   "outputs": [
    {
     "data": {
      "text/plain": [
       "0.7841749217482105"
      ]
     },
     "execution_count": 113,
     "metadata": {},
     "output_type": "execute_result"
    }
   ],
   "source": [
    "r2_score(y_test,y_pred)"
   ]
  },
  {
   "cell_type": "markdown",
   "metadata": {},
   "source": [
    "## Preprocessing"
   ]
  },
  {
   "cell_type": "code",
   "execution_count": 102,
   "metadata": {},
   "outputs": [],
   "source": [
    "# Define the column transformer for preprocessing\n",
    "preprocessor = make_column_transformer(\n",
    "    (OneHotEncoder(handle_unknown='ignore'), ['location']),\n",
    "    remainder=StandardScaler()  # Standard scale the remaining numerical columns\n",
    ")"
   ]
  },
  {
   "cell_type": "markdown",
   "metadata": {},
   "source": [
    "## Pipelines for LinearRegression Model"
   ]
  },
  {
   "cell_type": "code",
   "execution_count": 103,
   "metadata": {},
   "outputs": [],
   "source": [
    "pipelines = {\n",
    "    'Linear Regression': Pipeline(steps=[\n",
    "        ('preprocessor', preprocessor),\n",
    "        ('regressor', LinearRegression())\n",
    "    ]),\n",
    "    'Lasso': Pipeline(steps=[\n",
    "        ('preprocessor', preprocessor),\n",
    "        ('regressor', Lasso(alpha=1.0))\n",
    "    ]),\n",
    "    'Ridge': Pipeline(steps=[\n",
    "        ('preprocessor', preprocessor),\n",
    "        ('regressor', Ridge(alpha=1.0))\n",
    "    ])\n",
    "}"
   ]
  },
  {
   "cell_type": "markdown",
   "metadata": {},
   "source": [
    "##  Separate features and target variable"
   ]
  },
  {
   "cell_type": "code",
   "execution_count": 104,
   "metadata": {},
   "outputs": [],
   "source": [
    "X = data.drop('price', axis=1)\n",
    "y = data['price']"
   ]
  },
  {
   "cell_type": "markdown",
   "metadata": {},
   "source": [
    "## Data into training and testing"
   ]
  },
  {
   "cell_type": "code",
   "execution_count": 112,
   "metadata": {},
   "outputs": [],
   "source": [
    "X_train, X_test, y_train, y_test = train_test_split(X, y, test_size=0.2, random_state=0)"
   ]
  },
  {
   "cell_type": "markdown",
   "metadata": {},
   "source": [
    "## Pipeline with the training data and evaluate"
   ]
  },
  {
   "cell_type": "code",
   "execution_count": 111,
   "metadata": {},
   "outputs": [],
   "source": [
    "results = {}\n",
    "\n",
    "for name, pipe in pipelines.items():\n",
    "    pipe.fit(X_train, y_train)\n",
    "    y_pred = pipe.predict(X_test)\n",
    "    r2 = r2_score(y_test, y_pred)\n",
    "    results[name] = r2"
   ]
  },
  {
   "cell_type": "markdown",
   "metadata": {},
   "source": [
    "## R-squared scores"
   ]
  },
  {
   "cell_type": "code",
   "execution_count": 116,
   "metadata": {},
   "outputs": [
    {
     "name": "stdout",
     "output_type": "stream",
     "text": [
      "Linear Regression: R-squared score = 78.4489\n",
      "Lasso: R-squared score = 76.5507\n",
      "Ridge: R-squared score = 78.4175\n"
     ]
    }
   ],
   "source": [
    " \n",
    "for name, r2 in results.items():\n",
    "    print(f\"{name}: R-squared score = {r2*100:.4f}\")\n"
   ]
  },
  {
   "cell_type": "code",
   "execution_count": null,
   "metadata": {},
   "outputs": [],
   "source": []
  },
  {
   "cell_type": "code",
   "execution_count": 108,
   "metadata": {},
   "outputs": [],
   "source": [
    "import pickle "
   ]
  },
  {
   "cell_type": "code",
   "execution_count": 117,
   "metadata": {},
   "outputs": [],
   "source": [
    "pickle.dump(pipe,open('RidgeModel.pkl','wb'))"
   ]
  },
  {
   "cell_type": "code",
   "execution_count": null,
   "metadata": {},
   "outputs": [],
   "source": []
  }
 ],
 "metadata": {
  "kernelspec": {
   "display_name": "Python 3 (ipykernel)",
   "language": "python",
   "name": "python3"
  },
  "language_info": {
   "codemirror_mode": {
    "name": "ipython",
    "version": 3
   },
   "file_extension": ".py",
   "mimetype": "text/x-python",
   "name": "python",
   "nbconvert_exporter": "python",
   "pygments_lexer": "ipython3",
   "version": "3.11.7"
  }
 },
 "nbformat": 4,
 "nbformat_minor": 4
}
